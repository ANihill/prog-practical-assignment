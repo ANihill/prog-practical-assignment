{
 "cells": [
  {
   "cell_type": "markdown",
   "metadata": {},
   "source": [
    "# Numpy Package"
   ]
  },
  {
   "cell_type": "code",
   "execution_count": 113,
   "metadata": {},
   "outputs": [],
   "source": [
    "# Import necessary packages\n",
    "import numpy as np\n",
    "import matplotlib.pyplot as plt\n",
    "import matplotlib.dates as md\n",
    "import pandas as pd\n",
    "import seaborn as sns\n",
    "\n",
    "# magic command\n",
    "%matplotlib inline\n",
    "#set figure size\n",
    "plt.rcParams['figure.figsize'] = [10, 5]"
   ]
  },
  {
   "cell_type": "markdown",
   "metadata": {},
   "source": [
    "# 1. Overall purpose of numpy.random package\n",
    "\n",
    "The purpose of the numpy.random package is to generate pseudo random numbers. This is acheived by passing arguments to numpy that determine the shape and size of the random array. These parameters allow numpy to generate seemingly random numbers with a deterministic input. The overall shape and output of the numpy.random package can be determined by the use of in-built functions which will be explored further in this assignment."
   ]
  },
  {
   "cell_type": "markdown",
   "metadata": {},
   "source": [
    "# 2. Simple Random Data and Permutations functions"
   ]
  },
  {
   "cell_type": "markdown",
   "metadata": {},
   "source": [
    "## Simple Random Data\n"
   ]
  },
  {
   "cell_type": "markdown",
   "metadata": {},
   "source": [
    "## numpy.random.rand()\n",
    "numpy.random.rand() returns random values in a given shape (d0, 1, ..., dn). The parameters provide to the function determine the number of samples in the array, as well as the number of arrays. If no parameters are provided than the function returns a single random sample. The samples are returned in a uniform distribution in the half open interval [0.0, 1.0)."
   ]
  },
  {
   "cell_type": "markdown",
   "metadata": {},
   "source": [
    "## numpy.random.randn()\n",
    "The numpy.random.randn() function is similar to the previous function insofar as the parameters are the same. However, the function returns the samples in the standard normal distribution."
   ]
  },
  {
   "cell_type": "markdown",
   "metadata": {},
   "source": [
    "### Example"
   ]
  },
  {
   "cell_type": "code",
   "execution_count": 67,
   "metadata": {},
   "outputs": [
    {
     "data": {
      "image/png": "[encoded data removed]",
      "text/plain": [
       "<Figure size 720x360 with 2 Axes>"
      ]
     },
     "metadata": {
      "needs_background": "light"
     },
     "output_type": "display_data"
    }
   ],
   "source": [
    "# rand and randn functions with same sample size\n",
    "uniform = np.random.rand(1000)\n",
    "normal = np.random.randn(1000)\n",
    "\n",
    "# histogram of rand function\n",
    "plt.subplot(1, 2, 1)\n",
    "plt.hist(uniform)\n",
    "plt.title('rand: uniform')\n",
    "plt.show\n",
    "\n",
    "# histogram of randn function\n",
    "plt.subplot(1, 2, 2)\n",
    "plt.hist(normal)\n",
    "plt.title('randn; normal')\n",
    "plt.show()"
   ]
  },
  {
   "cell_type": "code",
   "execution_count": null,
   "metadata": {},
   "outputs": [],
   "source": []
  },
  {
   "cell_type": "code",
   "execution_count": null,
   "metadata": {},
   "outputs": [],
   "source": []
  },
  {
   "cell_type": "markdown",
   "metadata": {},
   "source": [
    "### numpy.random.random_integers()"
   ]
  },
  {
   "cell_type": "code",
   "execution_count": 7,
   "metadata": {},
   "outputs": [
    {
     "name": "stderr",
     "output_type": "stream",
     "text": [
      "/Users/adamnihill/anaconda3/lib/python3.7/site-packages/ipykernel_launcher.py:1: DeprecationWarning: This function is deprecated. Please call randint(1, 10000 + 1) instead\n",
      "  \"\"\"Entry point for launching an IPython kernel.\n"
     ]
    },
    {
     "data": {
      "text/plain": [
       "array([2572,  762, 1503])"
      ]
     },
     "execution_count": 7,
     "metadata": {},
     "output_type": "execute_result"
    }
   ],
   "source": [
    "np.random.random_integers(10000, size = (3))"
   ]
  },
  {
   "cell_type": "markdown",
   "metadata": {},
   "source": [
    "Results can be imagined a die roll"
   ]
  },
  {
   "cell_type": "code",
   "execution_count": 8,
   "metadata": {},
   "outputs": [
    {
     "name": "stderr",
     "output_type": "stream",
     "text": [
      "/Users/adamnihill/anaconda3/lib/python3.7/site-packages/ipykernel_launcher.py:2: DeprecationWarning: This function is deprecated. Please call randint(1, 6 + 1) instead\n",
      "  \n",
      "/Users/adamnihill/anaconda3/lib/python3.7/site-packages/ipykernel_launcher.py:3: MatplotlibDeprecationWarning: \n",
      "The 'normed' kwarg was deprecated in Matplotlib 2.1 and will be removed in 3.1. Use 'density' instead.\n",
      "  This is separate from the ipykernel package so we can avoid doing imports until\n"
     ]
    },
    {
     "data": {
      "image/png": "[encoded data removed]",
      "text/plain": [
       "<Figure size 720x360 with 1 Axes>"
      ]
     },
     "metadata": {
      "needs_background": "light"
     },
     "output_type": "display_data"
    }
   ],
   "source": [
    "#1000 dice rolls\n",
    "d1 = np.random.random_integers(1, 6, 1000)\n",
    "plt.hist(d1, 6, normed=True)\n",
    "plt.show()"
   ]
  },
  {
   "cell_type": "markdown",
   "metadata": {},
   "source": [
    "### numpy.random.randint"
   ]
  },
  {
   "cell_type": "code",
   "execution_count": 9,
   "metadata": {},
   "outputs": [
    {
     "name": "stderr",
     "output_type": "stream",
     "text": [
      "/Users/adamnihill/anaconda3/lib/python3.7/site-packages/ipykernel_launcher.py:2: MatplotlibDeprecationWarning: \n",
      "The 'normed' kwarg was deprecated in Matplotlib 2.1 and will be removed in 3.1. Use 'density' instead.\n",
      "  \n"
     ]
    },
    {
     "data": {
      "image/png": "[encoded data removed]",
      "text/plain": [
       "<Figure size 720x360 with 1 Axes>"
      ]
     },
     "metadata": {
      "needs_background": "light"
     },
     "output_type": "display_data"
    }
   ],
   "source": [
    "d6 = np.random.randint(1, 7, size = 1000)\n",
    "plt.hist(d6, 6, normed=True)\n",
    "plt.show()"
   ]
  },
  {
   "cell_type": "markdown",
   "metadata": {},
   "source": [
    "## Permutations"
   ]
  },
  {
   "cell_type": "markdown",
   "metadata": {},
   "source": [
    "### Shuffle\n",
    "The shuffle function changes the order of sequence by shuffling it's contents."
   ]
  },
  {
   "cell_type": "code",
   "execution_count": 10,
   "metadata": {},
   "outputs": [
    {
     "data": {
      "text/plain": [
       "array([0, 1, 2, 3, 4, 5, 6, 7, 8, 9])"
      ]
     },
     "execution_count": 10,
     "metadata": {},
     "output_type": "execute_result"
    }
   ],
   "source": [
    "# array of 10 numbers\n",
    "arr = np.arange(10)\n",
    "arr"
   ]
  },
  {
   "cell_type": "code",
   "execution_count": 11,
   "metadata": {},
   "outputs": [],
   "source": [
    "# shuffle the array\n",
    "np.random.shuffle(arr)"
   ]
  },
  {
   "cell_type": "code",
   "execution_count": 12,
   "metadata": {},
   "outputs": [
    {
     "data": {
      "text/plain": [
       "array([9, 8, 3, 7, 2, 5, 0, 1, 6, 4])"
      ]
     },
     "execution_count": 12,
     "metadata": {},
     "output_type": "execute_result"
    }
   ],
   "source": [
    "#shuffled output\n",
    "arr"
   ]
  },
  {
   "cell_type": "markdown",
   "metadata": {},
   "source": [
    "### Permutation\n",
    "The permutation function outputs a randomly ordered array in a given size."
   ]
  },
  {
   "cell_type": "code",
   "execution_count": 13,
   "metadata": {},
   "outputs": [
    {
     "data": {
      "text/plain": [
       "array([6, 1, 3, 5, 7, 4, 0, 9, 2, 8])"
      ]
     },
     "execution_count": 13,
     "metadata": {},
     "output_type": "execute_result"
    }
   ],
   "source": [
    "# random permutation with the size of 10\n",
    "np.random.permutation(10)"
   ]
  },
  {
   "cell_type": "code",
   "execution_count": 14,
   "metadata": {},
   "outputs": [
    {
     "data": {
      "text/plain": [
       "array([[0, 1, 2],\n",
       "       [6, 7, 8],\n",
       "       [3, 4, 5]])"
      ]
     },
     "execution_count": 14,
     "metadata": {},
     "output_type": "execute_result"
    }
   ],
   "source": [
    "arr_2 = np.arange(9).reshape((3, 3))\n",
    "np.random.permutation(arr_2)"
   ]
  },
  {
   "cell_type": "markdown",
   "metadata": {},
   "source": [
    "## numpy.random.random_sample()\n",
    "numpy.random.random_sample returns float (floting point real numbers) in continuous uniform destribution. The interval of which can be specified."
   ]
  },
  {
   "cell_type": "markdown",
   "metadata": {},
   "source": [
    "### Example "
   ]
  },
  {
   "cell_type": "code",
   "execution_count": 15,
   "metadata": {},
   "outputs": [
    {
     "data": {
      "text/plain": [
       "0.4684388631256792"
      ]
     },
     "execution_count": 15,
     "metadata": {},
     "output_type": "execute_result"
    }
   ],
   "source": [
    "np.random.random_sample()"
   ]
  },
  {
   "cell_type": "code",
   "execution_count": 16,
   "metadata": {},
   "outputs": [
    {
     "data": {
      "text/plain": [
       "array([[0.47150213, 0.30336657],\n",
       "       [0.81363013, 0.89453024],\n",
       "       [0.39786324, 0.72972155]])"
      ]
     },
     "execution_count": 16,
     "metadata": {},
     "output_type": "execute_result"
    }
   ],
   "source": [
    "# return 3 by 3 array\n",
    "np.random.random_sample((3, 2))"
   ]
  },
  {
   "cell_type": "markdown",
   "metadata": {},
   "source": [
    "## numpy.random.choice()\n",
    "numpy.random.choice() returns random sample of one dimensional array."
   ]
  },
  {
   "cell_type": "markdown",
   "metadata": {},
   "source": [
    "### Example"
   ]
  },
  {
   "cell_type": "code",
   "execution_count": 17,
   "metadata": {},
   "outputs": [
    {
     "data": {
      "text/plain": [
       "array([0, 4, 0, 0, 0, 3, 3, 3])"
      ]
     },
     "execution_count": 17,
     "metadata": {},
     "output_type": "execute_result"
    }
   ],
   "source": [
    "# np.arange(5) and size of 8\n",
    "np.random.choice(5, 8)"
   ]
  },
  {
   "cell_type": "markdown",
   "metadata": {},
   "source": [
    "# 3. Distributions"
   ]
  },
  {
   "cell_type": "markdown",
   "metadata": {},
   "source": [
    "## Geometric Distribution\n",
    "\n",
    "[Bernoulli Trial](https://en.wikipedia.org/wiki/Bernoulli_trial)\n",
    "\n",
    "A Bernoulli Trial is a random experiment where the results are either success or failure. Essentially, a Bernoulli Trial deals with \"yes\" or \"no\" questions. A straight forward example of this is a coin flip. The result can either be heads or tails.\n",
    "\n",
    "The geometric distribution models the number of trials must be run in order to provide a successful result.\n"
   ]
  },
  {
   "cell_type": "code",
   "execution_count": 18,
   "metadata": {},
   "outputs": [
    {
     "data": {
      "text/plain": [
       "0.56"
      ]
     },
     "execution_count": 18,
     "metadata": {},
     "output_type": "execute_result"
    }
   ],
   "source": [
    "# 100 coin flips with a probability rate of 50%\n",
    "heads = np.random.geometric(p=0.5, size=100)\n",
    "(heads == 1).sum()/100."
   ]
  },
  {
   "cell_type": "markdown",
   "metadata": {},
   "source": [
    "# Exponential  Distribution\n",
    "The exponential distribution can be seen as a counterpart to the geometric distribution. Whereas, the geometric distribution models the number of trials must be run to see a process change state, the exponential distribution describes the time it takes for a continuous process to change state.\n",
    "\n",
    "A practical example of this can be seen when measuring the rate of incoming calls in a call centre."
   ]
  },
  {
   "cell_type": "code",
   "execution_count": 120,
   "metadata": {
    "scrolled": true
   },
   "outputs": [
    {
     "data": {
      "text/html": [
       "<div>\n",
       "<style scoped>\n",
       "    .dataframe tbody tr th:only-of-type {\n",
       "        vertical-align: middle;\n",
       "    }\n",
       "\n",
       "    .dataframe tbody tr th {\n",
       "        vertical-align: top;\n",
       "    }\n",
       "\n",
       "    .dataframe thead th {\n",
       "        text-align: right;\n",
       "    }\n",
       "</style>\n",
       "<table border=\"1\" class=\"dataframe\">\n",
       "  <thead>\n",
       "    <tr style=\"text-align: right;\">\n",
       "      <th></th>\n",
       "      <th>Inbound Calls</th>\n",
       "    </tr>\n",
       "  </thead>\n",
       "  <tbody>\n",
       "    <tr>\n",
       "      <th>2019-10-07 09:00:00</th>\n",
       "      <td>28.410446</td>\n",
       "    </tr>\n",
       "    <tr>\n",
       "      <th>2019-10-07 10:00:00</th>\n",
       "      <td>91.228055</td>\n",
       "    </tr>\n",
       "    <tr>\n",
       "      <th>2019-10-07 11:00:00</th>\n",
       "      <td>3.638955</td>\n",
       "    </tr>\n",
       "    <tr>\n",
       "      <th>2019-10-07 12:00:00</th>\n",
       "      <td>175.420788</td>\n",
       "    </tr>\n",
       "    <tr>\n",
       "      <th>2019-10-07 13:00:00</th>\n",
       "      <td>29.953792</td>\n",
       "    </tr>\n",
       "    <tr>\n",
       "      <th>2019-10-07 14:00:00</th>\n",
       "      <td>76.905063</td>\n",
       "    </tr>\n",
       "    <tr>\n",
       "      <th>2019-10-07 15:00:00</th>\n",
       "      <td>54.430538</td>\n",
       "    </tr>\n",
       "    <tr>\n",
       "      <th>2019-10-07 16:00:00</th>\n",
       "      <td>22.397446</td>\n",
       "    </tr>\n",
       "    <tr>\n",
       "      <th>2019-10-08 09:00:00</th>\n",
       "      <td>71.758788</td>\n",
       "    </tr>\n",
       "    <tr>\n",
       "      <th>2019-10-08 10:00:00</th>\n",
       "      <td>5.004318</td>\n",
       "    </tr>\n",
       "    <tr>\n",
       "      <th>2019-10-08 11:00:00</th>\n",
       "      <td>66.383751</td>\n",
       "    </tr>\n",
       "    <tr>\n",
       "      <th>2019-10-08 12:00:00</th>\n",
       "      <td>28.752995</td>\n",
       "    </tr>\n",
       "    <tr>\n",
       "      <th>2019-10-08 13:00:00</th>\n",
       "      <td>59.835582</td>\n",
       "    </tr>\n",
       "    <tr>\n",
       "      <th>2019-10-08 14:00:00</th>\n",
       "      <td>90.955641</td>\n",
       "    </tr>\n",
       "    <tr>\n",
       "      <th>2019-10-08 15:00:00</th>\n",
       "      <td>52.223927</td>\n",
       "    </tr>\n",
       "    <tr>\n",
       "      <th>2019-10-08 16:00:00</th>\n",
       "      <td>168.145837</td>\n",
       "    </tr>\n",
       "  </tbody>\n",
       "</table>\n",
       "</div>"
      ],
      "text/plain": [
       "                     Inbound Calls\n",
       "2019-10-07 09:00:00      28.410446\n",
       "2019-10-07 10:00:00      91.228055\n",
       "2019-10-07 11:00:00       3.638955\n",
       "2019-10-07 12:00:00     175.420788\n",
       "2019-10-07 13:00:00      29.953792\n",
       "2019-10-07 14:00:00      76.905063\n",
       "2019-10-07 15:00:00      54.430538\n",
       "2019-10-07 16:00:00      22.397446\n",
       "2019-10-08 09:00:00      71.758788\n",
       "2019-10-08 10:00:00       5.004318\n",
       "2019-10-08 11:00:00      66.383751\n",
       "2019-10-08 12:00:00      28.752995\n",
       "2019-10-08 13:00:00      59.835582\n",
       "2019-10-08 14:00:00      90.955641\n",
       "2019-10-08 15:00:00      52.223927\n",
       "2019-10-08 16:00:00     168.145837"
      ]
     },
     "execution_count": 120,
     "metadata": {},
     "output_type": "execute_result"
    }
   ],
   "source": [
    "# set Business hours \n",
    "bh = pd.offsets.BusinessHour()\n",
    "# date range for two work days \n",
    "rng = pd.date_range('10/07/2019', periods=16, freq=bh)\n",
    "# simulated data for number of inbound calls in work week\n",
    "# average number of events is 100 \n",
    "ts = pd.DataFrame(np.random.exponential(100, len(rng)), index=rng, columns=['Inbound Calls'])\n",
    "ts"
   ]
  },
  {
   "cell_type": "code",
   "execution_count": 121,
   "metadata": {
    "scrolled": true
   },
   "outputs": [
    {
     "data": {
      "image/png": "[encoded data removed]",
      "text/plain": [
       "<Figure size 864x360 with 2 Axes>"
      ]
     },
     "metadata": {
      "needs_background": "light"
     },
     "output_type": "display_data"
    }
   ],
   "source": [
    "# sliced data frame in sections for monday and tuesday \n",
    "mon = ts.loc['2019-10-07 09:00:00':'2019-10-07 16:00:00']\n",
    "tue = ts.loc['2019-10-08 09:00:00':'2019-10-08 16:00:00']\n",
    "\n",
    "# created subplots sharing same y-axis\n",
    "fig, (ax1, ax2) = plt.subplots(1,2, sharey=True, figsize=(12, 5))\n",
    "fig.tight_layout(pad=2)\n",
    "\n",
    "# plot of mondays calls \n",
    "ax1.plot(mon)\n",
    "ax1.grid()\n",
    "ax1.set_title('Inbound Calls: Monday')\n",
    "#set  x-axis date format to just include hours and minutes \n",
    "ax1.xaxis.set_major_formatter(md.DateFormatter('%H:%M'))\n",
    "\n",
    "# plot of tuesdays calls \n",
    "ax2.plot(tue)\n",
    "ax2.grid()\n",
    "ax2.set_title('Inbound Calls: Tuesday')\n",
    "ax2.xaxis.set_major_formatter(md.DateFormatter('%H:%M'))\n",
    "\n",
    "plt.show()"
   ]
  },
  {
   "cell_type": "code",
   "execution_count": null,
   "metadata": {},
   "outputs": [],
   "source": []
  },
  {
   "cell_type": "markdown",
   "metadata": {},
   "source": [
    "## Dirichlet Distribution\n",
    "\n",
    "https://towardsdatascience.com/dirichlet-distribution-a82ab942a879\n",
    "\n",
    "<blockquote>The Dirichlet distribution Dir(α) is a family of continuous multivariate probability distributions parameterized by a vector α of positive reals. It is a multivariate generalisation of the Beta distribution. Dirichlet distributions are commonly used as prior distributions in Bayesian statistics.</blockquote>\n",
    "\n"
   ]
  },
  {
   "cell_type": "code",
   "execution_count": 19,
   "metadata": {},
   "outputs": [],
   "source": [
    "x = np.random.dirichlet((12, 10, 3))"
   ]
  },
  {
   "cell_type": "code",
   "execution_count": 20,
   "metadata": {},
   "outputs": [
    {
     "data": {
      "text/plain": [
       "array([0.67351121, 0.26650952, 0.05997927])"
      ]
     },
     "execution_count": 20,
     "metadata": {},
     "output_type": "execute_result"
    }
   ],
   "source": [
    "x"
   ]
  },
  {
   "cell_type": "code",
   "execution_count": 21,
   "metadata": {},
   "outputs": [
    {
     "data": {
      "image/png": "[encoded data removed]",
      "text/plain": [
       "<Figure size 720x360 with 1 Axes>"
      ]
     },
     "metadata": {
      "needs_background": "light"
     },
     "output_type": "display_data"
    }
   ],
   "source": [
    "plt.hist(x)\n",
    "plt.show()"
   ]
  },
  {
   "cell_type": "code",
   "execution_count": 22,
   "metadata": {},
   "outputs": [
    {
     "data": {
      "image/png": "[encoded data removed]",
      "text/plain": [
       "<Figure size 720x360 with 1 Axes>"
      ]
     },
     "metadata": {
      "needs_background": "light"
     },
     "output_type": "display_data"
    }
   ],
   "source": [
    "y = np.random.dirichlet((1, 1, 1))\n",
    "plt.hist(y)\n",
    "plt.show()"
   ]
  },
  {
   "cell_type": "markdown",
   "metadata": {},
   "source": [
    "# 4. Seeds"
   ]
  },
  {
   "cell_type": "code",
   "execution_count": 63,
   "metadata": {},
   "outputs": [],
   "source": [
    "rng = np.random.RandomState(9)"
   ]
  },
  {
   "cell_type": "code",
   "execution_count": 69,
   "metadata": {},
   "outputs": [
    {
     "data": {
      "text/plain": [
       "array([ 5, 12,  6,  6,  9,  5,  6])"
      ]
     },
     "execution_count": 69,
     "metadata": {},
     "output_type": "execute_result"
    }
   ],
   "source": [
    "rng.poisson(5, 7)"
   ]
  },
  {
   "cell_type": "code",
   "execution_count": null,
   "metadata": {},
   "outputs": [],
   "source": []
  },
  {
   "cell_type": "code",
   "execution_count": null,
   "metadata": {},
   "outputs": [],
   "source": []
  }
 ],
 "metadata": {
  "kernelspec": {
   "display_name": "Python 3",
   "language": "python",
   "name": "python3"
  },
  "language_info": {
   "codemirror_mode": {
    "name": "ipython",
    "version": 3
   },
   "file_extension": ".py",
   "mimetype": "text/x-python",
   "name": "python",
   "nbconvert_exporter": "python",
   "pygments_lexer": "ipython3",
   "version": "3.7.3"
  }
 },
 "nbformat": 4,
 "nbformat_minor": 2
}
