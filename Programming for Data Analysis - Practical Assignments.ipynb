{
 "cells": [
  {
   "cell_type": "markdown",
   "metadata": {},
   "source": [
    "# Numpy Package"
   ]
  },
  {
   "cell_type": "code",
   "execution_count": 1,
   "metadata": {},
   "outputs": [],
   "source": [
    "# Import necessary packages\n",
    "import numpy as np\n",
    "import matplotlib.pyplot as plt\n",
    "import matplotlib.dates as md\n",
    "import pandas as pd\n",
    "import seaborn as sns\n",
    "\n",
    "# magic command\n",
    "%matplotlib inline\n",
    "#set figure size\n",
    "plt.rcParams['figure.figsize'] = [10, 5]"
   ]
  },
  {
   "cell_type": "markdown",
   "metadata": {},
   "source": [
    "# 1. Overall purpose of numpy.random package\n",
    "\n",
    "The purpose of the numpy.random package is to generate pseudo random numbers. This is acheived by passing arguments to numpy that determine the shape and size of the random array. These parameters allow numpy to generate seemingly random numbers with a deterministic input. The overall shape and output of the numpy.random package can be determined by the use of in-built functions which will be explored further in this assignment."
   ]
  },
  {
   "cell_type": "markdown",
   "metadata": {},
   "source": [
    "# 2. Simple Random Data and Permutation functions"
   ]
  },
  {
   "cell_type": "markdown",
   "metadata": {},
   "source": [
    "## Simple Random Data\n",
    "\n",
    "On the numpy.random documentation the simple random data section contains a set of functions that return random samples primarily in the uniform distribution. \n",
    "\n",
    "The uniform distribution will be explained in the following examples, along with other types of distributions used here."
   ]
  },
  {
   "cell_type": "markdown",
   "metadata": {},
   "source": [
    "## numpy.random.rand\n",
    "[numpy.random.rand](https://docs.scipy.org/doc/numpy-1.14.0/reference/generated/numpy.random.rand.html#numpy.random.rand) returns random values in a given shape (d0, 1, ..., dn). The parameters provided to the function determine the number of samples in the array, as well as the number of arrays. If no parameters are provided than the function returns a single random sample. The samples are returned in a uniform distribution in the half open interval [0.0, 1.0).\n",
    "\n",
    "In the unifrom distribution, the random samples are equally likely to appear at each interval."
   ]
  },
  {
   "cell_type": "markdown",
   "metadata": {},
   "source": [
    "## numpy.random.randn\n",
    "[nump.random.randn](https://docs.scipy.org/doc/numpy-1.14.0/reference/generated/numpy.random.randn.html#numpy.random.randn) is similar to the previous function insofar as the parameters are the same. However, the function returns the samples in the standard normal distribution.\n",
    "\n",
    "The standard normal distribution has a centre of 0 with a higher density of samples around the centre with the density of samples reducing the further they fall from the centre."
   ]
  },
  {
   "cell_type": "code",
   "execution_count": 165,
   "metadata": {},
   "outputs": [
    {
     "data": {
      "image/png": "[encoded data removed]",
      "text/plain": [
       "<Figure size 720x360 with 2 Axes>"
      ]
     },
     "metadata": {
      "needs_background": "light"
     },
     "output_type": "display_data"
    }
   ],
   "source": [
    "# rand and randn functions with same sample size\n",
    "uniform = np.random.rand(100000)\n",
    "normal = np.random.randn(10000)\n",
    "\n",
    "# histogram of rand function\n",
    "plt.subplot(1, 2, 1)\n",
    "plt.hist(uniform)\n",
    "plt.title('rand: uniform')\n",
    "plt.show\n",
    "\n",
    "# histogram of randn function\n",
    "plt.subplot(1, 2, 2)\n",
    "plt.hist(normal)\n",
    "plt.title('randn; normal')\n",
    "plt.show()"
   ]
  },
  {
   "cell_type": "markdown",
   "metadata": {},
   "source": [
    "### numpy.random.randint\n",
    "[numpy.random.randint](https://docs.scipy.org/doc/numpy-1.14.0/reference/generated/numpy.random.randint.html#numpy.random.randint) returns samples of integers in the uniform distribution. Samples are drawn in the half open interval, lower integer which is inclusive, and higher integer, which is exclusive.\n",
    "\n",
    "A real world example of this function can be seen in the visualisation of dice rolls over a given sample size."
   ]
  },
  {
   "cell_type": "code",
   "execution_count": 168,
   "metadata": {},
   "outputs": [
    {
     "data": {
      "image/png": "[encoded data removed]",
      "text/plain": [
       "<Figure size 720x360 with 1 Axes>"
      ]
     },
     "metadata": {
      "needs_background": "light"
     },
     "output_type": "display_data"
    }
   ],
   "source": [
    "# low integer of 1, higher integer of 7, 100000 samples\n",
    "d1 = np.random.randint(1, 7, 100000, dtype=int)\n",
    "# histogram of distribution\n",
    "plt.hist(d1, 6)\n",
    "plt.show()\n"
   ]
  },
  {
   "cell_type": "markdown",
   "metadata": {},
   "source": [
    "### numpy.random.bytes\n",
    "[numpy.random.bytes](https://docs.scipy.org/doc/numpy-1.15.0/reference/generated/numpy.random.bytes.html#numpy.random.bytes) returns random bytes in a given size\n",
    "\n",
    "A byte is a unit of digital information consisting of 8 bits."
   ]
  },
  {
   "cell_type": "code",
   "execution_count": 27,
   "metadata": {},
   "outputs": [
    {
     "data": {
      "text/plain": [
       "b'r\\xdd\\xc7\\x16\\xfa`e\\x0e D'"
      ]
     },
     "execution_count": 27,
     "metadata": {},
     "output_type": "execute_result"
    }
   ],
   "source": [
    "# generate 10 random bytes \n",
    "np.random.bytes(10)"
   ]
  },
  {
   "cell_type": "markdown",
   "metadata": {},
   "source": [
    "## Permutations\n",
    "\n",
    "Permutations arrange or rearrange the sequence of an array. "
   ]
  },
  {
   "cell_type": "markdown",
   "metadata": {},
   "source": [
    "### Shuffle\n",
    "\n",
    "[Shuffle](https://docs.scipy.org/doc/numpy-1.14.0/reference/generated/numpy.random.shuffle.html#numpy.random.shuffle) changes the order of an already known sequence by rearranging it's contents. A common example of this is seen in a music player's shuffle function.\n",
    "\n",
    "Music albums come with a set playing order. On a twelve track album we can assign the array ([ 0,  1,  2,  3,  4,  5,  6,  7,  8,  9, 10, 11])."
   ]
  },
  {
   "cell_type": "code",
   "execution_count": 34,
   "metadata": {},
   "outputs": [
    {
     "data": {
      "text/plain": [
       "array([ 0,  1,  2,  3,  4,  5,  6,  7,  8,  9, 10, 11])"
      ]
     },
     "execution_count": 34,
     "metadata": {},
     "output_type": "execute_result"
    }
   ],
   "source": [
    "# array of 12 numbers\n",
    "arr = np.arange(12)\n",
    "arr"
   ]
  },
  {
   "cell_type": "markdown",
   "metadata": {},
   "source": [
    "If the shuffle function is called the sequence of tracks is rearranged."
   ]
  },
  {
   "cell_type": "code",
   "execution_count": 35,
   "metadata": {},
   "outputs": [],
   "source": [
    "# shuffle the array\n",
    "np.random.shuffle(arr)"
   ]
  },
  {
   "cell_type": "code",
   "execution_count": 36,
   "metadata": {},
   "outputs": [
    {
     "data": {
      "text/plain": [
       "array([ 5,  2,  7,  0, 11, 10,  1,  6,  4,  3,  9,  8])"
      ]
     },
     "execution_count": 36,
     "metadata": {},
     "output_type": "execute_result"
    }
   ],
   "source": [
    "#shuffled output\n",
    "arr"
   ]
  },
  {
   "cell_type": "markdown",
   "metadata": {},
   "source": [
    "To demonstrate this further we can take Lewis Capldi's debut album _Divinely Uninspired to a Hellish Extent_."
   ]
  },
  {
   "cell_type": "code",
   "execution_count": 37,
   "metadata": {},
   "outputs": [
    {
     "data": {
      "text/plain": [
       "['Grace',\n",
       " 'Bruises',\n",
       " 'Hold Me While You Wait',\n",
       " 'Someone You Loved',\n",
       " 'Maybe',\n",
       " 'Forever',\n",
       " 'One',\n",
       " 'Dont Get Me Wrong',\n",
       " 'Hollywood',\n",
       " 'Lost on You',\n",
       " 'Fade',\n",
       " 'Headspace']"
      ]
     },
     "execution_count": 37,
     "metadata": {},
     "output_type": "execute_result"
    }
   ],
   "source": [
    "# created an array containing the track titles in the original order\n",
    "lp = (['Grace', 'Bruises', 'Hold Me While You Wait', 'Someone You Loved', 'Maybe', 'Forever', 'One', 'Dont Get Me Wrong', 'Hollywood', 'Lost on You', 'Fade', 'Headspace',])\n",
    "lp"
   ]
  },
  {
   "cell_type": "code",
   "execution_count": 38,
   "metadata": {},
   "outputs": [
    {
     "data": {
      "text/plain": [
       "['Lost on You',\n",
       " 'One',\n",
       " 'Fade',\n",
       " 'Hold Me While You Wait',\n",
       " 'Hollywood',\n",
       " 'Grace',\n",
       " 'Headspace',\n",
       " 'Dont Get Me Wrong',\n",
       " 'Bruises',\n",
       " 'Someone You Loved',\n",
       " 'Maybe',\n",
       " 'Forever']"
      ]
     },
     "execution_count": 38,
     "metadata": {},
     "output_type": "execute_result"
    }
   ],
   "source": [
    "# shuffled the player order of the album\n",
    "np.random.shuffle(lp)\n",
    "lp"
   ]
  },
  {
   "cell_type": "markdown",
   "metadata": {},
   "source": [
    "### Permutation\n",
    "[Permutation](https://docs.scipy.org/doc/numpy-1.14.0/reference/generated/numpy.random.permutation.html#numpy.random.permutation) outputs a randomly ordered array in a given size."
   ]
  },
  {
   "cell_type": "code",
   "execution_count": 140,
   "metadata": {},
   "outputs": [
    {
     "data": {
      "text/plain": [
       "array([5, 3, 7, 6, 4, 8, 1, 9, 0, 2])"
      ]
     },
     "execution_count": 140,
     "metadata": {},
     "output_type": "execute_result"
    }
   ],
   "source": [
    "# random permutation with the size of 10\n",
    "np.random.permutation(10)"
   ]
  },
  {
   "cell_type": "code",
   "execution_count": 141,
   "metadata": {},
   "outputs": [
    {
     "data": {
      "text/plain": [
       "array([[3, 4, 5],\n",
       "       [6, 7, 8],\n",
       "       [0, 1, 2]])"
      ]
     },
     "execution_count": 141,
     "metadata": {},
     "output_type": "execute_result"
    }
   ],
   "source": [
    "arr_2 = np.arange(9).reshape((3, 3))\n",
    "np.random.permutation(arr_2)"
   ]
  },
  {
   "cell_type": "markdown",
   "metadata": {},
   "source": [
    "# 3. Distributions"
   ]
  },
  {
   "cell_type": "markdown",
   "metadata": {},
   "source": [
    "## Geometric Distribution\n",
    "The [Geometric Distribution](https://docs.scipy.org/doc/numpy-1.14.0/reference/generated/numpy.random.geometric.html#numpy.random.geometric) models the number of trials must be run in order to provide a successful result.\n",
    "\n",
    "[Bernoulli Trial](https://en.wikipedia.org/wiki/Bernoulli_trial)\n",
    "\n",
    "A Bernoulli Trial is a random experiment where the results are either success or failure. Essentially, a Bernoulli Trial deals with \"yes\" or \"no\" questions. A straight forward example of this is a coin flip where the results can either be heads or tails. \n",
    "\n"
   ]
  },
  {
   "cell_type": "code",
   "execution_count": 5,
   "metadata": {},
   "outputs": [
    {
     "data": {
      "text/plain": [
       "0.50007"
      ]
     },
     "execution_count": 5,
     "metadata": {},
     "output_type": "execute_result"
    }
   ],
   "source": [
    "# 100000 coin flips with a probability rate of 50%\n",
    "heads = np.random.geometric(p=0.5, size=100000)\n",
    "(heads == 1).sum()/100000."
   ]
  },
  {
   "cell_type": "markdown",
   "metadata": {},
   "source": [
    "# Poisson  Distribution\n",
    "The [Poison Distribution](https://docs.scipy.org/doc/numpy-1.14.0/reference/generated/numpy.random.poisson.html#numpy.random.poisson) describes the probability of a given number of events occuring in a fixed interval. These events occur at a constant rate and independently of the previous event. That is to say the occurence of a single event does not predict the probility of a future event.\n",
    "\n",
    "A practical example of this can be seen in generating some random data that mimicks the number of incoming calls at a call centre in a set time period. \n",
    "\n",
    "[Pandas time series/ date functionality](https://pandas.pydata.org/pandas-docs/stable/user_guide/timeseries.html) was used to create a time series that specified business hours only (09:00 to 17:00). This time series was than used as the index for samples randomly generated by the poisson distribution.\n"
   ]
  },
  {
   "cell_type": "code",
   "execution_count": 6,
   "metadata": {
    "scrolled": true
   },
   "outputs": [
    {
     "data": {
      "text/html": [
       "<div>\n",
       "<style scoped>\n",
       "    .dataframe tbody tr th:only-of-type {\n",
       "        vertical-align: middle;\n",
       "    }\n",
       "\n",
       "    .dataframe tbody tr th {\n",
       "        vertical-align: top;\n",
       "    }\n",
       "\n",
       "    .dataframe thead th {\n",
       "        text-align: right;\n",
       "    }\n",
       "</style>\n",
       "<table border=\"1\" class=\"dataframe\">\n",
       "  <thead>\n",
       "    <tr style=\"text-align: right;\">\n",
       "      <th></th>\n",
       "      <th>Inbound Calls</th>\n",
       "    </tr>\n",
       "  </thead>\n",
       "  <tbody>\n",
       "    <tr>\n",
       "      <th>2019-10-07 09:00:00</th>\n",
       "      <td>86</td>\n",
       "    </tr>\n",
       "    <tr>\n",
       "      <th>2019-10-07 10:00:00</th>\n",
       "      <td>105</td>\n",
       "    </tr>\n",
       "    <tr>\n",
       "      <th>2019-10-07 11:00:00</th>\n",
       "      <td>95</td>\n",
       "    </tr>\n",
       "    <tr>\n",
       "      <th>2019-10-07 12:00:00</th>\n",
       "      <td>98</td>\n",
       "    </tr>\n",
       "    <tr>\n",
       "      <th>2019-10-07 13:00:00</th>\n",
       "      <td>98</td>\n",
       "    </tr>\n",
       "    <tr>\n",
       "      <th>2019-10-07 14:00:00</th>\n",
       "      <td>111</td>\n",
       "    </tr>\n",
       "    <tr>\n",
       "      <th>2019-10-07 15:00:00</th>\n",
       "      <td>107</td>\n",
       "    </tr>\n",
       "    <tr>\n",
       "      <th>2019-10-07 16:00:00</th>\n",
       "      <td>91</td>\n",
       "    </tr>\n",
       "    <tr>\n",
       "      <th>2019-10-08 09:00:00</th>\n",
       "      <td>127</td>\n",
       "    </tr>\n",
       "    <tr>\n",
       "      <th>2019-10-08 10:00:00</th>\n",
       "      <td>105</td>\n",
       "    </tr>\n",
       "    <tr>\n",
       "      <th>2019-10-08 11:00:00</th>\n",
       "      <td>99</td>\n",
       "    </tr>\n",
       "    <tr>\n",
       "      <th>2019-10-08 12:00:00</th>\n",
       "      <td>111</td>\n",
       "    </tr>\n",
       "    <tr>\n",
       "      <th>2019-10-08 13:00:00</th>\n",
       "      <td>109</td>\n",
       "    </tr>\n",
       "    <tr>\n",
       "      <th>2019-10-08 14:00:00</th>\n",
       "      <td>98</td>\n",
       "    </tr>\n",
       "    <tr>\n",
       "      <th>2019-10-08 15:00:00</th>\n",
       "      <td>115</td>\n",
       "    </tr>\n",
       "    <tr>\n",
       "      <th>2019-10-08 16:00:00</th>\n",
       "      <td>103</td>\n",
       "    </tr>\n",
       "  </tbody>\n",
       "</table>\n",
       "</div>"
      ],
      "text/plain": [
       "                     Inbound Calls\n",
       "2019-10-07 09:00:00             86\n",
       "2019-10-07 10:00:00            105\n",
       "2019-10-07 11:00:00             95\n",
       "2019-10-07 12:00:00             98\n",
       "2019-10-07 13:00:00             98\n",
       "2019-10-07 14:00:00            111\n",
       "2019-10-07 15:00:00            107\n",
       "2019-10-07 16:00:00             91\n",
       "2019-10-08 09:00:00            127\n",
       "2019-10-08 10:00:00            105\n",
       "2019-10-08 11:00:00             99\n",
       "2019-10-08 12:00:00            111\n",
       "2019-10-08 13:00:00            109\n",
       "2019-10-08 14:00:00             98\n",
       "2019-10-08 15:00:00            115\n",
       "2019-10-08 16:00:00            103"
      ]
     },
     "execution_count": 6,
     "metadata": {},
     "output_type": "execute_result"
    }
   ],
   "source": [
    "# set business hours \n",
    "bh = pd.offsets.BusinessHour()\n",
    "# date range for two work days \n",
    "rng = pd.date_range('10/07/2019', periods=16, freq=bh)\n",
    "# simulated data for number of inbound calls in work week\n",
    "# average number of events is 100 per period of time \n",
    "ts = pd.DataFrame(np.random.poisson(100, len(rng)), index=rng, columns=['Inbound Calls'])\n",
    "ts"
   ]
  },
  {
   "cell_type": "markdown",
   "metadata": {},
   "source": [
    "With random call data generated with the poisson distribution the dataframe can be visualised with a lineplot."
   ]
  },
  {
   "cell_type": "code",
   "execution_count": 8,
   "metadata": {
    "scrolled": false
   },
   "outputs": [
    {
     "data": {
      "image/png": "[encoded data removed]",
      "text/plain": [
       "<Figure size 864x360 with 2 Axes>"
      ]
     },
     "metadata": {
      "needs_background": "light"
     },
     "output_type": "display_data"
    }
   ],
   "source": [
    "# sliced data frame in sections for monday and tuesday \n",
    "mon = ts.loc['2019-10-07 09:00:00':'2019-10-07 16:00:00']\n",
    "tue = ts.loc['2019-10-08 09:00:00':'2019-10-08 16:00:00']\n",
    "\n",
    "# created subplots sharing same y-axis\n",
    "fig, (ax1, ax2) = plt.subplots(1,2, sharey=True, figsize=(12, 5))\n",
    "fig.tight_layout(pad=2)\n",
    "\n",
    "# plot of mondays calls \n",
    "ax1.plot(mon)\n",
    "ax1.grid()\n",
    "ax1.set_title('Inbound Calls: Monday')\n",
    "#set  x-axis date format to just include hours and minutes \n",
    "ax1.xaxis.set_major_formatter(md.DateFormatter('%H:%M'))\n",
    "\n",
    "# plot of tuesdays calls \n",
    "ax2.plot(tue)\n",
    "ax2.grid()\n",
    "ax2.set_title('Inbound Calls: Tuesday')\n",
    "ax2.xaxis.set_major_formatter(md.DateFormatter('%H:%M'))\n",
    "\n",
    "plt.show()"
   ]
  },
  {
   "cell_type": "markdown",
   "metadata": {},
   "source": [
    "## Triangular Distribution\n",
    "The [Triangular Distribution](https://docs.scipy.org/doc/numpy-1.14.0/reference/generated/numpy.random.triangular.html#numpy.random.triangular) is useful as a means of prediction when limited information is known. There are three parameters of the triangular distribution, the best-case estimate, the worst case estimate and the most likely estimate.\n",
    "\n",
    "There are three parameters to the triangular distribution, a lower limit(a) an upper limit(b), the mode(c), and the size of the output, where a ≤ c ≤ b.\n",
    "\n",
    "The following example details the expected sales of a company over the course of a month where the minimum expected sales is to the value of €1000, the maximum expected sales is €6000, and the realistic value of expected sales is €3000. "
   ]
  },
  {
   "cell_type": "code",
   "execution_count": 145,
   "metadata": {},
   "outputs": [
    {
     "data": {
      "image/png": "[encoded data removed]",
      "text/plain": [
       "<Figure size 720x360 with 1 Axes>"
      ]
     },
     "metadata": {
      "needs_background": "light"
     },
     "output_type": "display_data"
    }
   ],
   "source": [
    "# Triangualr distribution where a=1000, b=6000, c=3000, with size of 10000\n",
    "plt.hist(np.random.triangular(1000, 3000, 6000, 10000), bins=200)\n",
    "plt.show()"
   ]
  },
  {
   "cell_type": "markdown",
   "metadata": {},
   "source": [
    "## Standard_t Distribution\n",
    "The [Standard_t Distribution](https://docs.scipy.org/doc/numpy-1.14.0/reference/generated/numpy.random.standard_t.html#numpy.random.standard_t) draws samples from a standard Student's t distribution.\n",
    "\n",
    "[Student's t distribution](https://en.wikipedia.org/wiki/Student%27s_t-distribution) \n",
    "<blockquote>arises when estimating the mean of a normally distributed population in situations where the sample size is small and the population standard deviation is unknown.</blockquote>\n",
    "\n",
    "The data for how many kilometres each team in the Premier League ran for the 2018/19 season was collected. Taking 3475 kilometres as the recommended distance each team should cover over the course of the season a student's t-test can be applied."
   ]
  },
  {
   "cell_type": "code",
   "execution_count": 146,
   "metadata": {},
   "outputs": [
    {
     "data": {
      "image/png": "[encoded data removed]",
      "text/plain": [
       "<Figure size 720x360 with 1 Axes>"
      ]
     },
     "metadata": {
      "needs_background": "light"
     },
     "output_type": "display_data"
    }
   ],
   "source": [
    "# array of km run by premier league teams for 2018/19 season\n",
    "km = np.array([3134, 3176, 3240, 3308, 3326, 3329, 3332, 3359, 3363, 3389, 3402, 3411, 3428, 3451, 3466, 3491, 3509, 3523, 3532, 3539])\n",
    "\n",
    "# 20 samples in array so 19 degrees of freedom\n",
    "s = np.random.standard_t(19, size=100000)\n",
    "\n",
    "plt.hist(s, bins=100)\n",
    "plt.show()"
   ]
  },
  {
   "cell_type": "code",
   "execution_count": 147,
   "metadata": {},
   "outputs": [],
   "source": [
    "# set target for km run by team to 3475km\n",
    "t = (np.mean(km)-3475)/(km.std(ddof=1)/np.sqrt(len(km)))"
   ]
  },
  {
   "cell_type": "code",
   "execution_count": 148,
   "metadata": {},
   "outputs": [
    {
     "data": {
      "text/plain": [
       "0.00143"
      ]
     },
     "execution_count": 148,
     "metadata": {},
     "output_type": "execute_result"
    }
   ],
   "source": [
    "# The result indicates null hypothesis has about 99% probability of being accurate \n",
    "np.sum(s<t)/float(len(s))"
   ]
  },
  {
   "cell_type": "markdown",
   "metadata": {},
   "source": [
    "## Hypergeometric Distribution\n",
    "The [Hypergeometric Distribution](https://docs.scipy.org/doc/numpy-1.14.0/reference/generated/numpy.random.hypergeometric.html#numpy.random.hypergeometric) can be applied to a hand of texas hold'em poker. Assume that the player has one heart card in their hand and two out of the three cards drawn for the first round are also hearts. The \n",
    "hypergeomtric distribution can be used to predict the probability that (a) one of the next two cards drawn will be hearts, (b) that both of the next two cards will be hearts, and (c) that neither of the next two cards drawn will be hearts.\n",
    "\n",
    "The distribution requires three main parameters, the number of successful selections, the number of unsuccessful selections, and the number of drawes made. The final parameter is the size of the output. In this case, it is known that 10 hearts remain in the deck as 3 have already been drawn, 37 non-hearts remain as 2 have already been drawn. "
   ]
  },
  {
   "cell_type": "code",
   "execution_count": 9,
   "metadata": {},
   "outputs": [
    {
     "data": {
      "text/plain": [
       "0.34018"
      ]
     },
     "execution_count": 9,
     "metadata": {},
     "output_type": "execute_result"
    }
   ],
   "source": [
    "# set ngood, nbad, and nsample values \n",
    "ngood, nbad, nsamp = 10, 37, 2\n",
    "#passed values to the hypergeometric distribution\n",
    "s = np.random.hypergeometric(ngood, nbad, nsamp, 100000)\n",
    "\n",
    "# probability of 1 card being a heart\n",
    "np.sum(s==1)/100000\n"
   ]
  },
  {
   "cell_type": "code",
   "execution_count": 10,
   "metadata": {},
   "outputs": [
    {
     "data": {
      "text/plain": [
       "0.042"
      ]
     },
     "execution_count": 10,
     "metadata": {},
     "output_type": "execute_result"
    }
   ],
   "source": [
    "# probability of both cards being hearts\n",
    "np.sum(s>1)/100000"
   ]
  },
  {
   "cell_type": "code",
   "execution_count": 11,
   "metadata": {},
   "outputs": [
    {
     "data": {
      "text/plain": [
       "0.61782"
      ]
     },
     "execution_count": 11,
     "metadata": {},
     "output_type": "execute_result"
    }
   ],
   "source": [
    "# probability of neither cards being hearts\n",
    "np.sum(s<1)/100000"
   ]
  },
  {
   "cell_type": "markdown",
   "metadata": {},
   "source": [
    "To take this example further, assume that the 3 hearts that are known form part of a straight flush, consequetive cards of the same suit. Now, what are the chnaces of (a) one of the next two cards drawn being part of the required sequence, (b) both cards being part of the required sequence, and (c) neither cards being part of the required sequence.\n",
    "\n",
    "For the purpose of simplification we will assume that cards already drawn are the 2, 3, and 4 of hearts. This means that there are only two possible successful selections, the 5, and 6 of hearts. "
   ]
  },
  {
   "cell_type": "code",
   "execution_count": 20,
   "metadata": {},
   "outputs": [
    {
     "data": {
      "text/plain": [
       "0.12288"
      ]
     },
     "execution_count": 20,
     "metadata": {},
     "output_type": "execute_result"
    }
   ],
   "source": [
    "# set ngood, nbad, and nsample values \n",
    "sf = np.random.hypergeometric(2, 45, 2, 100000)\n",
    "# probability of either 5 or 6 of hearts being drawn\n",
    "np.sum(sf==1)/100000"
   ]
  },
  {
   "cell_type": "code",
   "execution_count": 21,
   "metadata": {},
   "outputs": [
    {
     "data": {
      "text/plain": [
       "0.00289"
      ]
     },
     "execution_count": 21,
     "metadata": {},
     "output_type": "execute_result"
    }
   ],
   "source": [
    "# probability of both cards being drawn\n",
    "np.sum(sf>1)/100000"
   ]
  },
  {
   "cell_type": "code",
   "execution_count": 17,
   "metadata": {},
   "outputs": [
    {
     "data": {
      "text/plain": [
       "0.87579"
      ]
     },
     "execution_count": 17,
     "metadata": {},
     "output_type": "execute_result"
    }
   ],
   "source": [
    "# probability of neither cards bein drawn\n",
    "np.sum(sf<1)/100000"
   ]
  },
  {
   "cell_type": "markdown",
   "metadata": {},
   "source": [
    "# 4. Seeds\n",
    "A seed is a number used to initialise a pseudorandom number generator. The seed itself does not need to be random, as long as the seed is ignored, the rest of the generated valies will follow a given probability distribution.\n",
    "\n",
    "## numpy.random.RandomState\n",
    "The [numpy.random.RandomState](https://docs.scipy.org/doc/numpy-1.14.0/reference/generated/numpy.random.RandomState.html#numpy.random.RandomState) generator is a container for the Mersenne Twister pseudo-random number generator.\n",
    "\n",
    "An int or an array can be provided to the generator to act as a seed. \n"
   ]
  },
  {
   "cell_type": "code",
   "execution_count": 29,
   "metadata": {},
   "outputs": [],
   "source": [
    "# initialised the generator with a seed of 9\n",
    "rng = np.random.RandomState(9)"
   ]
  },
  {
   "cell_type": "code",
   "execution_count": 30,
   "metadata": {},
   "outputs": [
    {
     "data": {
      "text/plain": [
       "array([0, 2, 1, 2, 3, 0, 6, 6, 5])"
      ]
     },
     "execution_count": 30,
     "metadata": {},
     "output_type": "execute_result"
    }
   ],
   "source": [
    "# generated a random array in poisson distribution\n",
    "rng.poisson(3, 9)"
   ]
  }
 ],
 "metadata": {
  "kernelspec": {
   "display_name": "Python 3",
   "language": "python",
   "name": "python3"
  },
  "language_info": {
   "codemirror_mode": {
    "name": "ipython",
    "version": 3
   },
   "file_extension": ".py",
   "mimetype": "text/x-python",
   "name": "python",
   "nbconvert_exporter": "python",
   "pygments_lexer": "ipython3",
   "version": "3.7.3"
  }
 },
 "nbformat": 4,
 "nbformat_minor": 2
}
